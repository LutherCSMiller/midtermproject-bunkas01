{
 "cells": [
  {
   "cell_type": "code",
   "execution_count": 71,
   "metadata": {
    "collapsed": true
   },
   "outputs": [],
   "source": [
    "import requests\n",
    "import json\n",
    "import pandas as pd\n",
    "%matplotlib inline\n",
    "import matplotlib.pyplot as plt\n",
    "from ggplot import *"
   ]
  },
  {
   "cell_type": "markdown",
   "metadata": {},
   "source": [
    "## Project details\n",
    "\n",
    "For the project I'm intending to pull trade date for Elite: Dangerous from EDDB (Elite Dangerous DataBase). EDDB is a third party tool, relying on user submitted data, as well as scraping the official netlogs, and the API for a defunct iOS app. It also shares data with multiple other tools and databases intended for Elite: Dangerous players. Based on my current searches, it seems like the developers of Elite: Dangerous (sometimes also called Adjective: Adjective), Frontier Developments plc do not have a convenient public API.\n",
    "\n",
    "I'm largely analysing this data to satisfy my own idle curiosity--While I do play the game, I mostly play as a pirate, rather than a trader. It could still be interesting and useful in determining what salvage is worthwhile, or in picking trade lanes to target, but mostly I'm just curious.\n",
    "\n",
    "###### Possible Project Questions:\n",
    "1. What is the ranking in terms of average price across commodity categories?\n",
    "6. Is there a significant differece in price between rare and non-rare sub-categories within a given commodity category?\n",
    "2. What ten non-rare commodities have the highest profit margin?\n",
    "3. What ten rare commodities have the lowest profit margin?\n",
    "4. Do rare commodities always have a higher or lower profit margin than non-rare ones?\n",
    "\n",
    "Note: One of the somewhat awkward commodity categories is Slavery. Apparently, it's impossible to create a sci-fi setting featuring an empire without also having that empire allow slavery. Then again, one doesn't exactly play Adjective: Adjective for its *creative* setting."
   ]
  },
  {
   "cell_type": "markdown",
   "metadata": {},
   "source": [
    "### Datasets:"
   ]
  },
  {
   "cell_type": "markdown",
   "metadata": {},
   "source": [
    "#### Commodity Reference dataset from EDDB\n",
    "\n",
    "This dataset represents aggregated commodity data across individual commodities and in-game locations. It does not include information about commodity prices at different locations within the game, but rather represents average prices across the game's galaxy."
   ]
  },
  {
   "cell_type": "code",
   "execution_count": 53,
   "metadata": {
    "collapsed": true
   },
   "outputs": [],
   "source": [
    "comreq = requests.get(\"https://eddb.io/archive/v4/commodities.json\")"
   ]
  },
  {
   "cell_type": "code",
   "execution_count": 54,
   "metadata": {
    "collapsed": false
   },
   "outputs": [],
   "source": [
    "commodities = json.loads(comreq.text)\n",
    "com_data = pd.DataFrame(commodities)"
   ]
  },
  {
   "cell_type": "code",
   "execution_count": 55,
   "metadata": {
    "collapsed": true
   },
   "outputs": [],
   "source": [
    "def extract_category_name(category_dict):\n",
    "    category_name = category_dict['name']\n",
    "    return category_name\n",
    "\n",
    "def extract_category_wrapper(a_row):\n",
    "    return extract_category_name(a_row.category)"
   ]
  },
  {
   "cell_type": "code",
   "execution_count": 56,
   "metadata": {
    "collapsed": false
   },
   "outputs": [],
   "source": [
    "temp_com_data = com_data\n",
    "temp_com_data['category'] = temp_com_data.apply(extract_category_wrapper, axis=1)\n",
    "com_data = temp_com_data"
   ]
  },
  {
   "cell_type": "code",
   "execution_count": 127,
   "metadata": {
    "collapsed": false
   },
   "outputs": [
    {
     "data": {
      "text/html": [
       "<div>\n",
       "<table border=\"1\" class=\"dataframe\">\n",
       "  <thead>\n",
       "    <tr style=\"text-align: right;\">\n",
       "      <th></th>\n",
       "      <th>average_price</th>\n",
       "      <th>category</th>\n",
       "      <th>category_id</th>\n",
       "      <th>commodity_id</th>\n",
       "      <th>is_rare</th>\n",
       "      <th>name</th>\n",
       "    </tr>\n",
       "  </thead>\n",
       "  <tbody>\n",
       "    <tr>\n",
       "      <th>0</th>\n",
       "      <td>261</td>\n",
       "      <td>Chemicals</td>\n",
       "      <td>1</td>\n",
       "      <td>1</td>\n",
       "      <td>0</td>\n",
       "      <td>Explosives</td>\n",
       "    </tr>\n",
       "    <tr>\n",
       "      <th>1</th>\n",
       "      <td>110</td>\n",
       "      <td>Chemicals</td>\n",
       "      <td>1</td>\n",
       "      <td>2</td>\n",
       "      <td>0</td>\n",
       "      <td>Hydrogen Fuel</td>\n",
       "    </tr>\n",
       "    <tr>\n",
       "      <th>2</th>\n",
       "      <td>181</td>\n",
       "      <td>Chemicals</td>\n",
       "      <td>1</td>\n",
       "      <td>3</td>\n",
       "      <td>0</td>\n",
       "      <td>Mineral Oil</td>\n",
       "    </tr>\n",
       "    <tr>\n",
       "      <th>3</th>\n",
       "      <td>241</td>\n",
       "      <td>Chemicals</td>\n",
       "      <td>1</td>\n",
       "      <td>4</td>\n",
       "      <td>0</td>\n",
       "      <td>Pesticides</td>\n",
       "    </tr>\n",
       "    <tr>\n",
       "      <th>4</th>\n",
       "      <td>285</td>\n",
       "      <td>Consumer Items</td>\n",
       "      <td>2</td>\n",
       "      <td>5</td>\n",
       "      <td>0</td>\n",
       "      <td>Clothing</td>\n",
       "    </tr>\n",
       "  </tbody>\n",
       "</table>\n",
       "</div>"
      ],
      "text/plain": [
       "   average_price        category  category_id  commodity_id  is_rare  \\\n",
       "0            261       Chemicals            1             1        0   \n",
       "1            110       Chemicals            1             2        0   \n",
       "2            181       Chemicals            1             3        0   \n",
       "3            241       Chemicals            1             4        0   \n",
       "4            285  Consumer Items            2             5        0   \n",
       "\n",
       "            name  \n",
       "0     Explosives  \n",
       "1  Hydrogen Fuel  \n",
       "2    Mineral Oil  \n",
       "3     Pesticides  \n",
       "4       Clothing  "
      ]
     },
     "execution_count": 127,
     "metadata": {},
     "output_type": "execute_result"
    }
   ],
   "source": [
    "com_data.rename(columns={'id': 'commodity_id'}, inplace=True)\n",
    "com_data.head()"
   ]
  },
  {
   "cell_type": "markdown",
   "metadata": {},
   "source": [
    "#### Price Listings dataset from EDDB\n",
    "\n",
    "This dataset is the raw data on commodity prices throughout the game's galaxy. It contains entries for the buy and sell prices, demand, etc. for individual commodities across multiple stations. This also includes an identifier for the station that the individual entry was sourced from."
   ]
  },
  {
   "cell_type": "code",
   "execution_count": 58,
   "metadata": {
    "collapsed": false
   },
   "outputs": [],
   "source": [
    "pricereq = requests.get(\"https://eddb.io/archive/v4/listings.csv\")\n",
    "price_row_list = pricereq.text.split('\\n')"
   ]
  },
  {
   "cell_type": "code",
   "execution_count": 59,
   "metadata": {
    "collapsed": false
   },
   "outputs": [],
   "source": [
    "price_headings = price_row_list[0]\n",
    "price_row_list = price_row_list[1:]"
   ]
  },
  {
   "cell_type": "code",
   "execution_count": 60,
   "metadata": {
    "collapsed": false
   },
   "outputs": [],
   "source": [
    "price_headings = price_headings.split(\",\")"
   ]
  },
  {
   "cell_type": "code",
   "execution_count": 61,
   "metadata": {
    "collapsed": false
   },
   "outputs": [],
   "source": [
    "for index in range(len(price_row_list)):\n",
    "    entry_str = price_row_list[index]\n",
    "    new_entry = entry_str.split(\",\")\n",
    "    price_row_list[index] = new_entry"
   ]
  },
  {
   "cell_type": "code",
   "execution_count": 62,
   "metadata": {
    "collapsed": false
   },
   "outputs": [],
   "source": [
    "x = len(price_headings)\n",
    "problem_indices = []\n",
    "for entry in price_row_list:\n",
    "    if len(entry) != x:\n",
    "        index = price_row_list.index(entry)\n",
    "        problem_indices.append(index)\n",
    "        \n",
    "for index in problem_indices:\n",
    "    del price_row_list[index]"
   ]
  },
  {
   "cell_type": "code",
   "execution_count": 63,
   "metadata": {
    "collapsed": false
   },
   "outputs": [],
   "source": [
    "prices = {}\n",
    "for index in range(len(price_headings)):\n",
    "    key = price_headings[index]\n",
    "    value = []\n",
    "    for entry in price_row_list:\n",
    "        value.append(int(entry[index]))\n",
    "    prices[key] = value\n",
    "    \n",
    "price_data = pd.DataFrame(prices)"
   ]
  },
  {
   "cell_type": "code",
   "execution_count": 128,
   "metadata": {
    "collapsed": false
   },
   "outputs": [
    {
     "data": {
      "text/html": [
       "<div>\n",
       "<table border=\"1\" class=\"dataframe\">\n",
       "  <thead>\n",
       "    <tr style=\"text-align: right;\">\n",
       "      <th></th>\n",
       "      <th>buy_price</th>\n",
       "      <th>collected_at</th>\n",
       "      <th>commodity_id</th>\n",
       "      <th>demand</th>\n",
       "      <th>id</th>\n",
       "      <th>sell_price</th>\n",
       "      <th>station_id</th>\n",
       "      <th>supply</th>\n",
       "    </tr>\n",
       "  </thead>\n",
       "  <tbody>\n",
       "    <tr>\n",
       "      <th>0</th>\n",
       "      <td>0</td>\n",
       "      <td>1475765153</td>\n",
       "      <td>5</td>\n",
       "      <td>103</td>\n",
       "      <td>1</td>\n",
       "      <td>315</td>\n",
       "      <td>1</td>\n",
       "      <td>0</td>\n",
       "    </tr>\n",
       "    <tr>\n",
       "      <th>1</th>\n",
       "      <td>0</td>\n",
       "      <td>1475765153</td>\n",
       "      <td>6</td>\n",
       "      <td>8</td>\n",
       "      <td>2</td>\n",
       "      <td>6795</td>\n",
       "      <td>1</td>\n",
       "      <td>0</td>\n",
       "    </tr>\n",
       "    <tr>\n",
       "      <th>2</th>\n",
       "      <td>0</td>\n",
       "      <td>1475765153</td>\n",
       "      <td>7</td>\n",
       "      <td>63</td>\n",
       "      <td>3</td>\n",
       "      <td>527</td>\n",
       "      <td>1</td>\n",
       "      <td>0</td>\n",
       "    </tr>\n",
       "    <tr>\n",
       "      <th>3</th>\n",
       "      <td>0</td>\n",
       "      <td>1475765153</td>\n",
       "      <td>14</td>\n",
       "      <td>14</td>\n",
       "      <td>4</td>\n",
       "      <td>1286</td>\n",
       "      <td>1</td>\n",
       "      <td>0</td>\n",
       "    </tr>\n",
       "    <tr>\n",
       "      <th>4</th>\n",
       "      <td>0</td>\n",
       "      <td>1475765153</td>\n",
       "      <td>15</td>\n",
       "      <td>33</td>\n",
       "      <td>5</td>\n",
       "      <td>1286</td>\n",
       "      <td>1</td>\n",
       "      <td>0</td>\n",
       "    </tr>\n",
       "    <tr>\n",
       "      <th>5</th>\n",
       "      <td>0</td>\n",
       "      <td>1475765153</td>\n",
       "      <td>16</td>\n",
       "      <td>51</td>\n",
       "      <td>6</td>\n",
       "      <td>403</td>\n",
       "      <td>1</td>\n",
       "      <td>0</td>\n",
       "    </tr>\n",
       "    <tr>\n",
       "      <th>6</th>\n",
       "      <td>0</td>\n",
       "      <td>1475765153</td>\n",
       "      <td>17</td>\n",
       "      <td>4</td>\n",
       "      <td>7</td>\n",
       "      <td>203</td>\n",
       "      <td>1</td>\n",
       "      <td>0</td>\n",
       "    </tr>\n",
       "    <tr>\n",
       "      <th>7</th>\n",
       "      <td>0</td>\n",
       "      <td>1475765153</td>\n",
       "      <td>18</td>\n",
       "      <td>105</td>\n",
       "      <td>8</td>\n",
       "      <td>315</td>\n",
       "      <td>1</td>\n",
       "      <td>0</td>\n",
       "    </tr>\n",
       "    <tr>\n",
       "      <th>8</th>\n",
       "      <td>0</td>\n",
       "      <td>1475765153</td>\n",
       "      <td>19</td>\n",
       "      <td>89</td>\n",
       "      <td>9</td>\n",
       "      <td>207</td>\n",
       "      <td>1</td>\n",
       "      <td>0</td>\n",
       "    </tr>\n",
       "    <tr>\n",
       "      <th>9</th>\n",
       "      <td>0</td>\n",
       "      <td>1475765153</td>\n",
       "      <td>20</td>\n",
       "      <td>9</td>\n",
       "      <td>10</td>\n",
       "      <td>319</td>\n",
       "      <td>1</td>\n",
       "      <td>0</td>\n",
       "    </tr>\n",
       "  </tbody>\n",
       "</table>\n",
       "</div>"
      ],
      "text/plain": [
       "   buy_price  collected_at  commodity_id  demand  id  sell_price  station_id  \\\n",
       "0          0    1475765153             5     103   1         315           1   \n",
       "1          0    1475765153             6       8   2        6795           1   \n",
       "2          0    1475765153             7      63   3         527           1   \n",
       "3          0    1475765153            14      14   4        1286           1   \n",
       "4          0    1475765153            15      33   5        1286           1   \n",
       "5          0    1475765153            16      51   6         403           1   \n",
       "6          0    1475765153            17       4   7         203           1   \n",
       "7          0    1475765153            18     105   8         315           1   \n",
       "8          0    1475765153            19      89   9         207           1   \n",
       "9          0    1475765153            20       9  10         319           1   \n",
       "\n",
       "   supply  \n",
       "0       0  \n",
       "1       0  \n",
       "2       0  \n",
       "3       0  \n",
       "4       0  \n",
       "5       0  \n",
       "6       0  \n",
       "7       0  \n",
       "8       0  \n",
       "9       0  "
      ]
     },
     "execution_count": 128,
     "metadata": {},
     "output_type": "execute_result"
    }
   ],
   "source": [
    "price_data.head(10)"
   ]
  },
  {
   "cell_type": "markdown",
   "metadata": {},
   "source": [
    "### Data Analysis:"
   ]
  },
  {
   "cell_type": "markdown",
   "metadata": {},
   "source": [
    "#### What is the average commodity price within every category? e.g. what are the average price of Chemicals or Consumer Items? Additionally, what categories have the highest average price?"
   ]
  },
  {
   "cell_type": "code",
   "execution_count": 86,
   "metadata": {
    "collapsed": false
   },
   "outputs": [
    {
     "data": {
      "text/html": [
       "<div>\n",
       "<table border=\"1\" class=\"dataframe\">\n",
       "  <thead>\n",
       "    <tr style=\"text-align: right;\">\n",
       "      <th></th>\n",
       "      <th>category</th>\n",
       "      <th>average_price</th>\n",
       "    </tr>\n",
       "  </thead>\n",
       "  <tbody>\n",
       "    <tr>\n",
       "      <th>0</th>\n",
       "      <td>Salvage</td>\n",
       "      <td>34375.025000</td>\n",
       "    </tr>\n",
       "    <tr>\n",
       "      <th>1</th>\n",
       "      <td>Slavery</td>\n",
       "      <td>15719.333333</td>\n",
       "    </tr>\n",
       "    <tr>\n",
       "      <th>2</th>\n",
       "      <td>Industrial Materials</td>\n",
       "      <td>11845.900000</td>\n",
       "    </tr>\n",
       "    <tr>\n",
       "      <th>3</th>\n",
       "      <td>Consumer Items</td>\n",
       "      <td>9443.642857</td>\n",
       "    </tr>\n",
       "    <tr>\n",
       "      <th>4</th>\n",
       "      <td>Minerals</td>\n",
       "      <td>9363.045455</td>\n",
       "    </tr>\n",
       "    <tr>\n",
       "      <th>5</th>\n",
       "      <td>Metals</td>\n",
       "      <td>9222.086957</td>\n",
       "    </tr>\n",
       "    <tr>\n",
       "      <th>6</th>\n",
       "      <td>Weapons</td>\n",
       "      <td>8286.700000</td>\n",
       "    </tr>\n",
       "    <tr>\n",
       "      <th>7</th>\n",
       "      <td>Legal Drugs</td>\n",
       "      <td>8146.333333</td>\n",
       "    </tr>\n",
       "    <tr>\n",
       "      <th>8</th>\n",
       "      <td>Medicines</td>\n",
       "      <td>7661.588235</td>\n",
       "    </tr>\n",
       "    <tr>\n",
       "      <th>9</th>\n",
       "      <td>Foods</td>\n",
       "      <td>7412.122449</td>\n",
       "    </tr>\n",
       "    <tr>\n",
       "      <th>10</th>\n",
       "      <td>Textiles</td>\n",
       "      <td>5101.000000</td>\n",
       "    </tr>\n",
       "    <tr>\n",
       "      <th>11</th>\n",
       "      <td>Chemicals</td>\n",
       "      <td>4265.266667</td>\n",
       "    </tr>\n",
       "    <tr>\n",
       "      <th>12</th>\n",
       "      <td>Technology</td>\n",
       "      <td>3510.052632</td>\n",
       "    </tr>\n",
       "    <tr>\n",
       "      <th>13</th>\n",
       "      <td>Machinery</td>\n",
       "      <td>2331.571429</td>\n",
       "    </tr>\n",
       "    <tr>\n",
       "      <th>14</th>\n",
       "      <td>Waste</td>\n",
       "      <td>132.250000</td>\n",
       "    </tr>\n",
       "    <tr>\n",
       "      <th>15</th>\n",
       "      <td>Unknown</td>\n",
       "      <td>101.000000</td>\n",
       "    </tr>\n",
       "  </tbody>\n",
       "</table>\n",
       "</div>"
      ],
      "text/plain": [
       "                category  average_price\n",
       "0                Salvage   34375.025000\n",
       "1                Slavery   15719.333333\n",
       "2   Industrial Materials   11845.900000\n",
       "3         Consumer Items    9443.642857\n",
       "4               Minerals    9363.045455\n",
       "5                 Metals    9222.086957\n",
       "6                Weapons    8286.700000\n",
       "7            Legal Drugs    8146.333333\n",
       "8              Medicines    7661.588235\n",
       "9                  Foods    7412.122449\n",
       "10              Textiles    5101.000000\n",
       "11             Chemicals    4265.266667\n",
       "12            Technology    3510.052632\n",
       "13             Machinery    2331.571429\n",
       "14                 Waste     132.250000\n",
       "15               Unknown     101.000000"
      ]
     },
     "execution_count": 86,
     "metadata": {},
     "output_type": "execute_result"
    }
   ],
   "source": [
    "cat_avg = com_data.groupby('category').mean().sort_values('average_price', ascending=False)[['average_price']]\n",
    "cat_avg = cat_avg.reset_index()\n",
    "cat_avg"
   ]
  },
  {
   "cell_type": "code",
   "execution_count": 104,
   "metadata": {
    "collapsed": false
   },
   "outputs": [
    {
     "data": {
      "text/plain": [
       "<matplotlib.axes._subplots.AxesSubplot at 0x7f0eae5b8b70>"
      ]
     },
     "execution_count": 104,
     "metadata": {},
     "output_type": "execute_result"
    },
    {
     "data": {
      "image/png": "[encoded data removed]",
      "text/plain": [
       "<matplotlib.figure.Figure at 0x7f0eb050a160>"
      ]
     },
     "metadata": {},
     "output_type": "display_data"
    }
   ],
   "source": [
    "cat_avg.plot(x='category', y='average_price', kind='bar')"
   ]
  },
  {
   "cell_type": "markdown",
   "metadata": {},
   "source": [
    "Here, it seems like several categories I wouldn't have expeted to be quite as valuable rank very highly in terms of average price. Salvage or Consumer items are commodity categories I would have expected to have a fairly low value, but instead rank quite highly. I'm now curious as to to if rare items within a given category are driving the average price for the whole category up significantly."
   ]
  },
  {
   "cell_type": "markdown",
   "metadata": {},
   "source": [
    "#### What are the seperate average prices of rare and non-rare sommodity sets within commodity categories? e.g. what is the average price of Rare Salvage versus Common Salvage?"
   ]
  },
  {
   "cell_type": "code",
   "execution_count": 117,
   "metadata": {
    "collapsed": false
   },
   "outputs": [
    {
     "data": {
      "text/html": [
       "<div>\n",
       "<table border=\"1\" class=\"dataframe\">\n",
       "  <thead>\n",
       "    <tr style=\"text-align: right;\">\n",
       "      <th>is_rare</th>\n",
       "      <th>category</th>\n",
       "      <th>Non-rare</th>\n",
       "      <th>Rare</th>\n",
       "    </tr>\n",
       "  </thead>\n",
       "  <tbody>\n",
       "    <tr>\n",
       "      <th>0</th>\n",
       "      <td>Chemicals</td>\n",
       "      <td>2276.100000</td>\n",
       "      <td>8243.600000</td>\n",
       "    </tr>\n",
       "    <tr>\n",
       "      <th>1</th>\n",
       "      <td>Consumer Items</td>\n",
       "      <td>1673.800000</td>\n",
       "      <td>11132.739130</td>\n",
       "    </tr>\n",
       "    <tr>\n",
       "      <th>2</th>\n",
       "      <td>Foods</td>\n",
       "      <td>608.777778</td>\n",
       "      <td>8942.875000</td>\n",
       "    </tr>\n",
       "    <tr>\n",
       "      <th>3</th>\n",
       "      <td>Industrial Materials</td>\n",
       "      <td>12252.000000</td>\n",
       "      <td>8191.000000</td>\n",
       "    </tr>\n",
       "    <tr>\n",
       "      <th>4</th>\n",
       "      <td>Legal Drugs</td>\n",
       "      <td>2814.833333</td>\n",
       "      <td>9331.111111</td>\n",
       "    </tr>\n",
       "    <tr>\n",
       "      <th>5</th>\n",
       "      <td>Machinery</td>\n",
       "      <td>1055.750000</td>\n",
       "      <td>9986.500000</td>\n",
       "    </tr>\n",
       "    <tr>\n",
       "      <th>6</th>\n",
       "      <td>Medicines</td>\n",
       "      <td>3279.333333</td>\n",
       "      <td>10051.909091</td>\n",
       "    </tr>\n",
       "    <tr>\n",
       "      <th>7</th>\n",
       "      <td>Metals</td>\n",
       "      <td>8772.545455</td>\n",
       "      <td>19112.000000</td>\n",
       "    </tr>\n",
       "    <tr>\n",
       "      <th>8</th>\n",
       "      <td>Minerals</td>\n",
       "      <td>8508.050000</td>\n",
       "      <td>17913.000000</td>\n",
       "    </tr>\n",
       "    <tr>\n",
       "      <th>9</th>\n",
       "      <td>Salvage</td>\n",
       "      <td>34375.025000</td>\n",
       "      <td>NaN</td>\n",
       "    </tr>\n",
       "    <tr>\n",
       "      <th>10</th>\n",
       "      <td>Slavery</td>\n",
       "      <td>13284.000000</td>\n",
       "      <td>20590.000000</td>\n",
       "    </tr>\n",
       "    <tr>\n",
       "      <th>11</th>\n",
       "      <td>Technology</td>\n",
       "      <td>2540.764706</td>\n",
       "      <td>11749.000000</td>\n",
       "    </tr>\n",
       "    <tr>\n",
       "      <th>12</th>\n",
       "      <td>Textiles</td>\n",
       "      <td>414.000000</td>\n",
       "      <td>8448.857143</td>\n",
       "    </tr>\n",
       "    <tr>\n",
       "      <th>13</th>\n",
       "      <td>Unknown</td>\n",
       "      <td>101.000000</td>\n",
       "      <td>NaN</td>\n",
       "    </tr>\n",
       "    <tr>\n",
       "      <th>14</th>\n",
       "      <td>Waste</td>\n",
       "      <td>132.250000</td>\n",
       "      <td>NaN</td>\n",
       "    </tr>\n",
       "    <tr>\n",
       "      <th>15</th>\n",
       "      <td>Weapons</td>\n",
       "      <td>4088.600000</td>\n",
       "      <td>12484.800000</td>\n",
       "    </tr>\n",
       "  </tbody>\n",
       "</table>\n",
       "</div>"
      ],
      "text/plain": [
       "is_rare              category      Non-rare          Rare\n",
       "0                   Chemicals   2276.100000   8243.600000\n",
       "1              Consumer Items   1673.800000  11132.739130\n",
       "2                       Foods    608.777778   8942.875000\n",
       "3        Industrial Materials  12252.000000   8191.000000\n",
       "4                 Legal Drugs   2814.833333   9331.111111\n",
       "5                   Machinery   1055.750000   9986.500000\n",
       "6                   Medicines   3279.333333  10051.909091\n",
       "7                      Metals   8772.545455  19112.000000\n",
       "8                    Minerals   8508.050000  17913.000000\n",
       "9                     Salvage  34375.025000           NaN\n",
       "10                    Slavery  13284.000000  20590.000000\n",
       "11                 Technology   2540.764706  11749.000000\n",
       "12                   Textiles    414.000000   8448.857143\n",
       "13                    Unknown    101.000000           NaN\n",
       "14                      Waste    132.250000           NaN\n",
       "15                    Weapons   4088.600000  12484.800000"
      ]
     },
     "execution_count": 117,
     "metadata": {},
     "output_type": "execute_result"
    }
   ],
   "source": [
    "cat_rare_avg = pd.pivot_table(com_data, index='category', values='average_price', columns='is_rare')\n",
    "cat_rare_avg = cat_rare_avg.reset_index()\n",
    "cat_rare_avg.rename(columns={0: 'Non-rare', 1: 'Rare'}, inplace=True)\n",
    "cat_rare_avg"
   ]
  },
  {
   "cell_type": "code",
   "execution_count": 126,
   "metadata": {
    "collapsed": false
   },
   "outputs": [
    {
     "data": {
      "text/plain": [
       "array([<matplotlib.axes._subplots.AxesSubplot object at 0x7f0eadfd1860>,\n",
       "       <matplotlib.axes._subplots.AxesSubplot object at 0x7f0eadf4f0f0>], dtype=object)"
      ]
     },
     "execution_count": 126,
     "metadata": {},
     "output_type": "execute_result"
    },
    {
     "data": {
      "image/png": "[encoded data removed]",
      "text/plain": [
       "<matplotlib.figure.Figure at 0x7f0eadfe0780>"
      ]
     },
     "metadata": {},
     "output_type": "display_data"
    }
   ],
   "source": [
    "cat_rare_avg.plot(x='category', subplots=True)"
   ]
  },
  {
   "cell_type": "markdown",
   "metadata": {},
   "source": [
    "#### What ten commodities have the highest profit margin? (Where profit margin is defined as the difference between maximum buy price and minimum sell price.)"
   ]
  },
  {
   "cell_type": "code",
   "execution_count": 144,
   "metadata": {
    "collapsed": false
   },
   "outputs": [],
   "source": [
    "max_buy = price_data.groupby('commodity_id')[['buy_price']].max()\n",
    "min_sell = price_data.groupby('commodity_id')[['sell_price']].min()\n",
    "com_margin = com_data\n",
    "com_margin['max_buy'] = max_buy['buy_price']\n",
    "com_margin['min_sell'] = min_sell['sell_price']\n",
    "com_margin = com_margin.fillna('NaN').query(\"max_buy != 'NaN' | min_sell != 'NaN'\")"
   ]
  },
  {
   "cell_type": "code",
   "execution_count": 145,
   "metadata": {
    "collapsed": true
   },
   "outputs": [],
   "source": [
    "def calc_margin(buy, sell):\n",
    "    return buy - sell\n",
    "\n",
    "def margin_wrapper(row):\n",
    "    return calc_margin(row.max_buy, row.min_sell)"
   ]
  },
  {
   "cell_type": "code",
   "execution_count": 146,
   "metadata": {
    "collapsed": false
   },
   "outputs": [
    {
     "data": {
      "text/html": [
       "<div>\n",
       "<table border=\"1\" class=\"dataframe\">\n",
       "  <thead>\n",
       "    <tr style=\"text-align: right;\">\n",
       "      <th></th>\n",
       "      <th>average_price</th>\n",
       "      <th>category</th>\n",
       "      <th>category_id</th>\n",
       "      <th>commodity_id</th>\n",
       "      <th>is_rare</th>\n",
       "      <th>name</th>\n",
       "      <th>max_buy</th>\n",
       "      <th>min_sell</th>\n",
       "      <th>profit_margin</th>\n",
       "    </tr>\n",
       "  </thead>\n",
       "  <tbody>\n",
       "    <tr>\n",
       "      <th>114</th>\n",
       "      <td>343</td>\n",
       "      <td>Consumer Items</td>\n",
       "      <td>2</td>\n",
       "      <td>116</td>\n",
       "      <td>0</td>\n",
       "      <td>Evacuation Shelter</td>\n",
       "      <td>115801</td>\n",
       "      <td>77828</td>\n",
       "      <td>37973.0</td>\n",
       "    </tr>\n",
       "    <tr>\n",
       "      <th>59</th>\n",
       "      <td>10584</td>\n",
       "      <td>Slavery</td>\n",
       "      <td>10</td>\n",
       "      <td>60</td>\n",
       "      <td>0</td>\n",
       "      <td>Slaves</td>\n",
       "      <td>17057</td>\n",
       "      <td>1703</td>\n",
       "      <td>15354.0</td>\n",
       "    </tr>\n",
       "    <tr>\n",
       "      <th>45</th>\n",
       "      <td>19279</td>\n",
       "      <td>Metals</td>\n",
       "      <td>8</td>\n",
       "      <td>46</td>\n",
       "      <td>0</td>\n",
       "      <td>Platinum</td>\n",
       "      <td>14852</td>\n",
       "      <td>11272</td>\n",
       "      <td>3580.0</td>\n",
       "    </tr>\n",
       "    <tr>\n",
       "      <th>306</th>\n",
       "      <td>332</td>\n",
       "      <td>Salvage</td>\n",
       "      <td>16</td>\n",
       "      <td>309</td>\n",
       "      <td>0</td>\n",
       "      <td>Galactic Travel Guide</td>\n",
       "      <td>5362</td>\n",
       "      <td>2121</td>\n",
       "      <td>3241.0</td>\n",
       "    </tr>\n",
       "    <tr>\n",
       "      <th>81</th>\n",
       "      <td>40508</td>\n",
       "      <td>Minerals</td>\n",
       "      <td>9</td>\n",
       "      <td>83</td>\n",
       "      <td>0</td>\n",
       "      <td>Painite</td>\n",
       "      <td>8563</td>\n",
       "      <td>5554</td>\n",
       "      <td>3009.0</td>\n",
       "    </tr>\n",
       "    <tr>\n",
       "      <th>42</th>\n",
       "      <td>5727</td>\n",
       "      <td>Metals</td>\n",
       "      <td>8</td>\n",
       "      <td>43</td>\n",
       "      <td>0</td>\n",
       "      <td>Indium</td>\n",
       "      <td>10517</td>\n",
       "      <td>7744</td>\n",
       "      <td>2773.0</td>\n",
       "    </tr>\n",
       "    <tr>\n",
       "      <th>69</th>\n",
       "      <td>1856</td>\n",
       "      <td>Technology</td>\n",
       "      <td>11</td>\n",
       "      <td>70</td>\n",
       "      <td>0</td>\n",
       "      <td>Robotics</td>\n",
       "      <td>6485</td>\n",
       "      <td>4726</td>\n",
       "      <td>1759.0</td>\n",
       "    </tr>\n",
       "    <tr>\n",
       "      <th>24</th>\n",
       "      <td>357</td>\n",
       "      <td>Machinery</td>\n",
       "      <td>6</td>\n",
       "      <td>25</td>\n",
       "      <td>0</td>\n",
       "      <td>Atmospheric Processors</td>\n",
       "      <td>7165</td>\n",
       "      <td>5459</td>\n",
       "      <td>1706.0</td>\n",
       "    </tr>\n",
       "    <tr>\n",
       "      <th>38</th>\n",
       "      <td>647</td>\n",
       "      <td>Metals</td>\n",
       "      <td>8</td>\n",
       "      <td>39</td>\n",
       "      <td>0</td>\n",
       "      <td>Cobalt</td>\n",
       "      <td>8613</td>\n",
       "      <td>6940</td>\n",
       "      <td>1673.0</td>\n",
       "    </tr>\n",
       "    <tr>\n",
       "      <th>109</th>\n",
       "      <td>8766</td>\n",
       "      <td>Metals</td>\n",
       "      <td>8</td>\n",
       "      <td>111</td>\n",
       "      <td>0</td>\n",
       "      <td>Lanthanum</td>\n",
       "      <td>12080</td>\n",
       "      <td>10419</td>\n",
       "      <td>1661.0</td>\n",
       "    </tr>\n",
       "  </tbody>\n",
       "</table>\n",
       "</div>"
      ],
      "text/plain": [
       "     average_price        category  category_id  commodity_id  is_rare  \\\n",
       "114            343  Consumer Items            2           116        0   \n",
       "59           10584         Slavery           10            60        0   \n",
       "45           19279          Metals            8            46        0   \n",
       "306            332         Salvage           16           309        0   \n",
       "81           40508        Minerals            9            83        0   \n",
       "42            5727          Metals            8            43        0   \n",
       "69            1856      Technology           11            70        0   \n",
       "24             357       Machinery            6            25        0   \n",
       "38             647          Metals            8            39        0   \n",
       "109           8766          Metals            8           111        0   \n",
       "\n",
       "                       name max_buy min_sell  profit_margin  \n",
       "114      Evacuation Shelter  115801    77828        37973.0  \n",
       "59                   Slaves   17057     1703        15354.0  \n",
       "45                 Platinum   14852    11272         3580.0  \n",
       "306   Galactic Travel Guide    5362     2121         3241.0  \n",
       "81                  Painite    8563     5554         3009.0  \n",
       "42                   Indium   10517     7744         2773.0  \n",
       "69                 Robotics    6485     4726         1759.0  \n",
       "24   Atmospheric Processors    7165     5459         1706.0  \n",
       "38                   Cobalt    8613     6940         1673.0  \n",
       "109               Lanthanum   12080    10419         1661.0  "
      ]
     },
     "execution_count": 146,
     "metadata": {},
     "output_type": "execute_result"
    }
   ],
   "source": [
    "com_margin['profit_margin'] = com_margin.apply(margin_wrapper, axis=1)\n",
    "com_margin.sort_values('profit_margin', ascending=False).head(10)"
   ]
  }
 ],
 "metadata": {
  "kernelspec": {
   "display_name": "Python 3",
   "language": "python",
   "name": "python3"
  },
  "language_info": {
   "codemirror_mode": {
    "name": "ipython",
    "version": 3
   },
   "file_extension": ".py",
   "mimetype": "text/x-python",
   "name": "python",
   "nbconvert_exporter": "python",
   "pygments_lexer": "ipython3",
   "version": "3.5.1"
  }
 },
 "nbformat": 4,
 "nbformat_minor": 0
}
